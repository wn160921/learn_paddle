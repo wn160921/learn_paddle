{
 "cells": [
  {
   "cell_type": "code",
   "execution_count": 1,
   "id": "8a30f9f9",
   "metadata": {},
   "outputs": [],
   "source": [
    "# AlexNet\n",
    "# 数据增广 使用Dropout抑制过拟合 使用ReLU激活函数减少梯度消失现象"
   ]
  },
  {
   "cell_type": "code",
   "execution_count": 2,
   "id": "26f6517a",
   "metadata": {},
   "outputs": [],
   "source": []
  },
  {
   "cell_type": "code",
   "execution_count": null,
   "id": "ad8a7047",
   "metadata": {},
   "outputs": [],
   "source": []
  }
 ],
 "metadata": {
  "kernelspec": {
   "display_name": "Python 3 (ipykernel)",
   "language": "python",
   "name": "python3"
  },
  "language_info": {
   "codemirror_mode": {
    "name": "ipython",
    "version": 3
   },
   "file_extension": ".py",
   "mimetype": "text/x-python",
   "name": "python",
   "nbconvert_exporter": "python",
   "pygments_lexer": "ipython3",
   "version": "3.9.12"
  }
 },
 "nbformat": 4,
 "nbformat_minor": 5
}
