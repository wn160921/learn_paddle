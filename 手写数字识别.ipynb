{
 "cells": [
  {
   "cell_type": "code",
   "execution_count": 1,
   "id": "2566b43f",
   "metadata": {},
   "outputs": [],
   "source": [
    "# 极简方案"
   ]
  },
  {
   "cell_type": "code",
   "execution_count": 1,
   "id": "fdbc1c09",
   "metadata": {},
   "outputs": [
    {
     "name": "stderr",
     "output_type": "stream",
     "text": [
      "C:\\Users\\25564\\AppData\\Local\\Temp\\ipykernel_5928\\2704148065.py:7: DeprecationWarning: Using or importing the ABCs from 'collections' instead of from 'collections.abc' is deprecated since Python 3.3, and in 3.10 it will stop working\n",
      "  from collections import MutableMapping,Iterable,Mapping,Sized\n"
     ]
    }
   ],
   "source": [
    "import paddle\n",
    "from paddle.nn import Linear\n",
    "import paddle.nn.functional as F\n",
    "import os\n",
    "import numpy as np\n",
    "import matplotlib.pyplot as plt\n",
    "from collections import MutableMapping,Iterable,Mapping,Sized"
   ]
  },
  {
   "cell_type": "code",
   "execution_count": 2,
   "id": "d143af2c",
   "metadata": {},
   "outputs": [],
   "source": [
    "# 读取数据\n",
    "train_dataset = paddle.vision.datasets.MNIST(mode='train')"
   ]
  },
  {
   "cell_type": "code",
   "execution_count": 3,
   "id": "18630816",
   "metadata": {},
   "outputs": [
    {
     "data": {
      "text/plain": [
       "<Figure size 432x288 with 0 Axes>"
      ]
     },
     "metadata": {},
     "output_type": "display_data"
    },
    {
     "data": {
      "image/png": "[encoded data removed]",
      "text/plain": [
       "<Figure size 144x144 with 1 Axes>"
      ]
     },
     "metadata": {
      "needs_background": "light"
     },
     "output_type": "display_data"
    },
    {
     "name": "stdout",
     "output_type": "stream",
     "text": [
      "[5]\n"
     ]
    }
   ],
   "source": [
    "train_data0 = np.array(train_dataset[0][0])\n",
    "train_label_0 = np.array(train_dataset[0][1])\n",
    "plt.figure(\"Image\")\n",
    "plt.figure(figsize=(2,2))\n",
    "plt.imshow(train_data0, cmap=plt.cm.binary)\n",
    "plt.axis('on')\n",
    "plt.title('image')\n",
    "plt.show()\n",
    "print(train_label_0)"
   ]
  },
  {
   "cell_type": "code",
   "execution_count": 4,
   "id": "05097792",
   "metadata": {},
   "outputs": [],
   "source": [
    "# 定义mnist数据识别网络结构，同房价预测网络\n",
    "class MNIST(paddle.nn.Layer):\n",
    "    def __init__(self):\n",
    "        super(MNIST, self).__init__()\n",
    "        self.fc = paddle.nn.Linear(in_features=784,out_features=1)\n",
    "        \n",
    "    def forward(self, inputs):\n",
    "        outputs = self.fc(inputs)\n",
    "        return outputs"
   ]
  },
  {
   "cell_type": "code",
   "execution_count": 5,
   "id": "c2d6889f",
   "metadata": {},
   "outputs": [],
   "source": [
    "model = MNIST()\n",
    "def train(model):\n",
    "    model.train()\n",
    "    train_loader = paddle.io.DataLoader(paddle.vision.datasets.MNIST(mode='train'),batch_size=16,shuffle=True)\n",
    "    opt = paddle.optimizer.SGD(learning_rate=0.001, parameters=model.parameters())"
   ]
  },
  {
   "cell_type": "code",
   "execution_count": 6,
   "id": "d34c1dff",
   "metadata": {},
   "outputs": [],
   "source": [
    "def norm_img(img):\n",
    "    assert len(img.shape) == 3\n",
    "    batch_size, img_h, img_w = img.shape[0],img.shape[1],img.shape[2]\n",
    "    img = img / 255\n",
    "    img = paddle.reshape(img, [batch_size,img_h*img_w])\n",
    "    return img"
   ]
  },
  {
   "cell_type": "code",
   "execution_count": 8,
   "id": "8a383b58",
   "metadata": {},
   "outputs": [
    {
     "name": "stdout",
     "output_type": "stream",
     "text": [
      "opoch_id: 0, batch_id: 0, loss is [21.14196]\n",
      "opoch_id: 0, batch_id: 1000, loss is [3.342372]\n",
      "opoch_id: 0, batch_id: 2000, loss is [5.7993546]\n",
      "opoch_id: 0, batch_id: 3000, loss is [5.5038342]\n",
      "opoch_id: 1, batch_id: 0, loss is [2.4275184]\n",
      "opoch_id: 1, batch_id: 1000, loss is [2.030398]\n",
      "opoch_id: 1, batch_id: 2000, loss is [4.7584743]\n",
      "opoch_id: 1, batch_id: 3000, loss is [4.477691]\n",
      "opoch_id: 2, batch_id: 0, loss is [3.9689226]\n",
      "opoch_id: 2, batch_id: 1000, loss is [2.7158594]\n",
      "opoch_id: 2, batch_id: 2000, loss is [5.0130935]\n",
      "opoch_id: 2, batch_id: 3000, loss is [5.3376026]\n",
      "opoch_id: 3, batch_id: 0, loss is [3.2064085]\n",
      "opoch_id: 3, batch_id: 1000, loss is [3.6527286]\n",
      "opoch_id: 3, batch_id: 2000, loss is [1.3156374]\n",
      "opoch_id: 3, batch_id: 3000, loss is [2.3669784]\n",
      "opoch_id: 4, batch_id: 0, loss is [3.1425614]\n",
      "opoch_id: 4, batch_id: 1000, loss is [3.282797]\n",
      "opoch_id: 4, batch_id: 2000, loss is [2.1156173]\n",
      "opoch_id: 4, batch_id: 3000, loss is [5.7446566]\n",
      "opoch_id: 5, batch_id: 0, loss is [2.265813]\n",
      "opoch_id: 5, batch_id: 1000, loss is [1.8502011]\n",
      "opoch_id: 5, batch_id: 2000, loss is [3.8395429]\n",
      "opoch_id: 5, batch_id: 3000, loss is [3.8553593]\n",
      "opoch_id: 6, batch_id: 0, loss is [4.3324375]\n",
      "opoch_id: 6, batch_id: 1000, loss is [2.3404946]\n",
      "opoch_id: 6, batch_id: 2000, loss is [7.7211714]\n",
      "opoch_id: 6, batch_id: 3000, loss is [2.714282]\n",
      "opoch_id: 7, batch_id: 0, loss is [2.2158084]\n",
      "opoch_id: 7, batch_id: 1000, loss is [2.5535831]\n",
      "opoch_id: 7, batch_id: 2000, loss is [3.4325283]\n",
      "opoch_id: 7, batch_id: 3000, loss is [2.7861686]\n",
      "opoch_id: 8, batch_id: 0, loss is [3.3855217]\n",
      "opoch_id: 8, batch_id: 1000, loss is [5.596585]\n",
      "opoch_id: 8, batch_id: 2000, loss is [4.7859464]\n",
      "opoch_id: 8, batch_id: 3000, loss is [2.6617608]\n",
      "opoch_id: 9, batch_id: 0, loss is [4.994443]\n",
      "opoch_id: 9, batch_id: 1000, loss is [2.2107468]\n",
      "opoch_id: 9, batch_id: 2000, loss is [2.588031]\n",
      "opoch_id: 9, batch_id: 3000, loss is [7.9093995]\n"
     ]
    }
   ],
   "source": [
    "paddle.vision.set_image_backend('cv2')\n",
    "model = MNIST()\n",
    "\n",
    "def train(model):\n",
    "    paddle.device.set_device(\"gpu:0\")\n",
    "    model.train()\n",
    "    train_loader = paddle.io.DataLoader(paddle.vision.datasets.MNIST(mode='train'),batch_size=16,shuffle=True)\n",
    "    opt = paddle.optimizer.SGD(learning_rate=0.001, parameters=model.parameters())\n",
    "    EPOCH_NUM = 10\n",
    "    for epoch in range(EPOCH_NUM):\n",
    "        for batch_id, data in enumerate(train_loader()):\n",
    "            images = norm_img(data[0].astype('float32'))\n",
    "            labels = data[1].astype('float32')\n",
    "            predicts = model(images)\n",
    "            \n",
    "            loss = F.square_error_cost(predicts, labels)\n",
    "            avg_loss = paddle.mean(loss)\n",
    "            \n",
    "            if batch_id % 1000 == 0:\n",
    "                print(\"opoch_id: {}, batch_id: {}, loss is {}\".format(epoch,batch_id,avg_loss.numpy()))\n",
    "            avg_loss.backward()\n",
    "            opt.step()\n",
    "            opt.clear_grad()\n",
    "train(model)\n",
    "paddle.save(model.state_dict(),'./mnist.pdparams')"
   ]
  },
  {
   "cell_type": "code",
   "execution_count": 19,
   "id": "abedd3ac",
   "metadata": {},
   "outputs": [],
   "source": [
    "# 模型测试"
   ]
  },
  {
   "cell_type": "code",
   "execution_count": 20,
   "id": "837ac7dc",
   "metadata": {},
   "outputs": [
    {
     "ename": "FileNotFoundError",
     "evalue": "[Errno 2] No such file or directory: './work/example.png'",
     "output_type": "error",
     "traceback": [
      "\u001b[0;31m---------------------------------------------------------------------------\u001b[0m",
      "\u001b[0;31mFileNotFoundError\u001b[0m                         Traceback (most recent call last)",
      "\u001b[0;32m/var/folders/wd/8wzyf1t512s625px80dm4ctm0000gn/T/ipykernel_4265/3721111476.py\u001b[0m in \u001b[0;36m<module>\u001b[0;34m\u001b[0m\n\u001b[1;32m      1\u001b[0m \u001b[0;32mfrom\u001b[0m \u001b[0mPIL\u001b[0m \u001b[0;32mimport\u001b[0m \u001b[0mImage\u001b[0m\u001b[0;34m\u001b[0m\u001b[0;34m\u001b[0m\u001b[0m\n\u001b[1;32m      2\u001b[0m \u001b[0mimg_path\u001b[0m \u001b[0;34m=\u001b[0m \u001b[0;34m'./work/example.png'\u001b[0m\u001b[0;34m\u001b[0m\u001b[0;34m\u001b[0m\u001b[0m\n\u001b[0;32m----> 3\u001b[0;31m \u001b[0mim\u001b[0m \u001b[0;34m=\u001b[0m \u001b[0mImage\u001b[0m\u001b[0;34m.\u001b[0m\u001b[0mopen\u001b[0m\u001b[0;34m(\u001b[0m\u001b[0mimg_path\u001b[0m\u001b[0;34m)\u001b[0m\u001b[0;34m\u001b[0m\u001b[0;34m\u001b[0m\u001b[0m\n\u001b[0m\u001b[1;32m      4\u001b[0m \u001b[0mplt\u001b[0m\u001b[0;34m.\u001b[0m\u001b[0mimshow\u001b[0m\u001b[0;34m(\u001b[0m\u001b[0mim\u001b[0m\u001b[0;34m)\u001b[0m\u001b[0;34m\u001b[0m\u001b[0;34m\u001b[0m\u001b[0m\n\u001b[1;32m      5\u001b[0m \u001b[0mplt\u001b[0m\u001b[0;34m.\u001b[0m\u001b[0mshow\u001b[0m\u001b[0;34m(\u001b[0m\u001b[0;34m)\u001b[0m\u001b[0;34m\u001b[0m\u001b[0;34m\u001b[0m\u001b[0m\n",
      "\u001b[0;32m/opt/homebrew/Caskroom/miniforge/base/lib/python3.9/site-packages/PIL/Image.py\u001b[0m in \u001b[0;36mopen\u001b[0;34m(fp, mode, formats)\u001b[0m\n\u001b[1;32m   2973\u001b[0m \u001b[0;34m\u001b[0m\u001b[0m\n\u001b[1;32m   2974\u001b[0m     \u001b[0;32mif\u001b[0m \u001b[0mfilename\u001b[0m\u001b[0;34m:\u001b[0m\u001b[0;34m\u001b[0m\u001b[0;34m\u001b[0m\u001b[0m\n\u001b[0;32m-> 2975\u001b[0;31m         \u001b[0mfp\u001b[0m \u001b[0;34m=\u001b[0m \u001b[0mbuiltins\u001b[0m\u001b[0;34m.\u001b[0m\u001b[0mopen\u001b[0m\u001b[0;34m(\u001b[0m\u001b[0mfilename\u001b[0m\u001b[0;34m,\u001b[0m \u001b[0;34m\"rb\"\u001b[0m\u001b[0;34m)\u001b[0m\u001b[0;34m\u001b[0m\u001b[0;34m\u001b[0m\u001b[0m\n\u001b[0m\u001b[1;32m   2976\u001b[0m         \u001b[0mexclusive_fp\u001b[0m \u001b[0;34m=\u001b[0m \u001b[0;32mTrue\u001b[0m\u001b[0;34m\u001b[0m\u001b[0;34m\u001b[0m\u001b[0m\n\u001b[1;32m   2977\u001b[0m \u001b[0;34m\u001b[0m\u001b[0m\n",
      "\u001b[0;31mFileNotFoundError\u001b[0m: [Errno 2] No such file or directory: './work/example.png'"
     ]
    }
   ],
   "source": [
    "from PIL import Image\n",
    "img_path = './work/example.png'\n",
    "im = Image.open(img_path)\n",
    "plt.imshow(im)\n",
    "plt.show()\n",
    "im = im.convert('L')\n",
    "print('原始图像shape: ',np.array(im).shape)\n",
    "im = im.resize((28,28),Image.ANTIALIAS)\n",
    "plt.imshow(im)\n",
    "plt.show()\n",
    "print('采样后图片shape:', np.array(im).shape)"
   ]
  },
  {
   "cell_type": "code",
   "execution_count": 21,
   "id": "0c550525",
   "metadata": {},
   "outputs": [
    {
     "ename": "FileNotFoundError",
     "evalue": "[Errno 2] No such file or directory: './work/example.jpg'",
     "output_type": "error",
     "traceback": [
      "\u001b[0;31m---------------------------------------------------------------------------\u001b[0m",
      "\u001b[0;31mFileNotFoundError\u001b[0m                         Traceback (most recent call last)",
      "\u001b[0;32m/var/folders/wd/8wzyf1t512s625px80dm4ctm0000gn/T/ipykernel_4265/3342175456.py\u001b[0m in \u001b[0;36m<module>\u001b[0;34m\u001b[0m\n\u001b[1;32m     18\u001b[0m \u001b[0mmodel\u001b[0m\u001b[0;34m.\u001b[0m\u001b[0mload_dict\u001b[0m\u001b[0;34m(\u001b[0m\u001b[0mparam_dict\u001b[0m\u001b[0;34m)\u001b[0m\u001b[0;34m\u001b[0m\u001b[0;34m\u001b[0m\u001b[0m\n\u001b[1;32m     19\u001b[0m \u001b[0mmodel\u001b[0m\u001b[0;34m.\u001b[0m\u001b[0meval\u001b[0m\u001b[0;34m(\u001b[0m\u001b[0;34m)\u001b[0m\u001b[0;34m\u001b[0m\u001b[0;34m\u001b[0m\u001b[0m\n\u001b[0;32m---> 20\u001b[0;31m \u001b[0mtensor_img\u001b[0m \u001b[0;34m=\u001b[0m \u001b[0mload_image\u001b[0m\u001b[0;34m(\u001b[0m\u001b[0mimg_path\u001b[0m\u001b[0;34m)\u001b[0m\u001b[0;34m\u001b[0m\u001b[0;34m\u001b[0m\u001b[0m\n\u001b[0m\u001b[1;32m     21\u001b[0m \u001b[0mresult\u001b[0m \u001b[0;34m=\u001b[0m \u001b[0mmodel\u001b[0m\u001b[0;34m(\u001b[0m\u001b[0mpaddle\u001b[0m\u001b[0;34m.\u001b[0m\u001b[0mto_tensor\u001b[0m\u001b[0;34m(\u001b[0m\u001b[0mtensor_img\u001b[0m\u001b[0;34m)\u001b[0m\u001b[0;34m)\u001b[0m\u001b[0;34m\u001b[0m\u001b[0;34m\u001b[0m\u001b[0m\n\u001b[1;32m     22\u001b[0m \u001b[0mprint\u001b[0m\u001b[0;34m(\u001b[0m\u001b[0;34m'result: '\u001b[0m\u001b[0;34m,\u001b[0m\u001b[0mresult\u001b[0m\u001b[0;34m)\u001b[0m\u001b[0;34m\u001b[0m\u001b[0;34m\u001b[0m\u001b[0m\n",
      "\u001b[0;32m/var/folders/wd/8wzyf1t512s625px80dm4ctm0000gn/T/ipykernel_4265/3342175456.py\u001b[0m in \u001b[0;36mload_image\u001b[0;34m(img_path)\u001b[0m\n\u001b[1;32m      4\u001b[0m \u001b[0;32mdef\u001b[0m \u001b[0mload_image\u001b[0m\u001b[0;34m(\u001b[0m\u001b[0mimg_path\u001b[0m\u001b[0;34m)\u001b[0m\u001b[0;34m:\u001b[0m\u001b[0;34m\u001b[0m\u001b[0;34m\u001b[0m\u001b[0m\n\u001b[1;32m      5\u001b[0m     \u001b[0;31m# 从img_path中读取图像，并转为灰度图\u001b[0m\u001b[0;34m\u001b[0m\u001b[0;34m\u001b[0m\u001b[0m\n\u001b[0;32m----> 6\u001b[0;31m     \u001b[0mim\u001b[0m \u001b[0;34m=\u001b[0m \u001b[0mImage\u001b[0m\u001b[0;34m.\u001b[0m\u001b[0mopen\u001b[0m\u001b[0;34m(\u001b[0m\u001b[0mimg_path\u001b[0m\u001b[0;34m)\u001b[0m\u001b[0;34m.\u001b[0m\u001b[0mconvert\u001b[0m\u001b[0;34m(\u001b[0m\u001b[0;34m'L'\u001b[0m\u001b[0;34m)\u001b[0m\u001b[0;34m\u001b[0m\u001b[0;34m\u001b[0m\u001b[0m\n\u001b[0m\u001b[1;32m      7\u001b[0m     \u001b[0;31m# print(np.array(im))\u001b[0m\u001b[0;34m\u001b[0m\u001b[0;34m\u001b[0m\u001b[0m\n\u001b[1;32m      8\u001b[0m     \u001b[0mim\u001b[0m \u001b[0;34m=\u001b[0m \u001b[0mim\u001b[0m\u001b[0;34m.\u001b[0m\u001b[0mresize\u001b[0m\u001b[0;34m(\u001b[0m\u001b[0;34m(\u001b[0m\u001b[0;36m28\u001b[0m\u001b[0;34m,\u001b[0m \u001b[0;36m28\u001b[0m\u001b[0;34m)\u001b[0m\u001b[0;34m,\u001b[0m \u001b[0mImage\u001b[0m\u001b[0;34m.\u001b[0m\u001b[0mANTIALIAS\u001b[0m\u001b[0;34m)\u001b[0m\u001b[0;34m\u001b[0m\u001b[0;34m\u001b[0m\u001b[0m\n",
      "\u001b[0;32m/opt/homebrew/Caskroom/miniforge/base/lib/python3.9/site-packages/PIL/Image.py\u001b[0m in \u001b[0;36mopen\u001b[0;34m(fp, mode, formats)\u001b[0m\n\u001b[1;32m   2973\u001b[0m \u001b[0;34m\u001b[0m\u001b[0m\n\u001b[1;32m   2974\u001b[0m     \u001b[0;32mif\u001b[0m \u001b[0mfilename\u001b[0m\u001b[0;34m:\u001b[0m\u001b[0;34m\u001b[0m\u001b[0;34m\u001b[0m\u001b[0m\n\u001b[0;32m-> 2975\u001b[0;31m         \u001b[0mfp\u001b[0m \u001b[0;34m=\u001b[0m \u001b[0mbuiltins\u001b[0m\u001b[0;34m.\u001b[0m\u001b[0mopen\u001b[0m\u001b[0;34m(\u001b[0m\u001b[0mfilename\u001b[0m\u001b[0;34m,\u001b[0m \u001b[0;34m\"rb\"\u001b[0m\u001b[0;34m)\u001b[0m\u001b[0;34m\u001b[0m\u001b[0;34m\u001b[0m\u001b[0m\n\u001b[0m\u001b[1;32m   2976\u001b[0m         \u001b[0mexclusive_fp\u001b[0m \u001b[0;34m=\u001b[0m \u001b[0;32mTrue\u001b[0m\u001b[0;34m\u001b[0m\u001b[0;34m\u001b[0m\u001b[0m\n\u001b[1;32m   2977\u001b[0m \u001b[0;34m\u001b[0m\u001b[0m\n",
      "\u001b[0;31mFileNotFoundError\u001b[0m: [Errno 2] No such file or directory: './work/example.jpg'"
     ]
    }
   ],
   "source": [
    "# 预测\n",
    "\n",
    "# 读取一张本地的样例图片，转变成模型输入的格式\n",
    "def load_image(img_path):\n",
    "    # 从img_path中读取图像，并转为灰度图\n",
    "    im = Image.open(img_path).convert('L')\n",
    "    # print(np.array(im))\n",
    "    im = im.resize((28, 28), Image.ANTIALIAS)\n",
    "    im = np.array(im).reshape(1, -1).astype(np.float32)\n",
    "    # 图像归一化，保持和数据集的数据范围一致\n",
    "    im = 1 - im / 255\n",
    "    return im\n",
    "\n",
    "model = MNIST()\n",
    "params_file_path = 'mnist.pdparams'\n",
    "img_path = './work/example.jpg'\n",
    "param_dict = paddle.load(params_file_path)\n",
    "model.load_dict(param_dict)\n",
    "model.eval()\n",
    "tensor_img = load_image(img_path)\n",
    "result = model(paddle.to_tensor(tensor_img))\n",
    "print('result: ',result)\n",
    "print('本次预测的结果是：'+result.numpy().astype('int32'))\n"
   ]
  },
  {
   "cell_type": "code",
   "execution_count": 24,
   "id": "7803dce3",
   "metadata": {},
   "outputs": [
    {
     "name": "stderr",
     "output_type": "stream",
     "text": [
      "Cache file /Users/wn/.cache/paddle/dataset/mnist/t10k-images-idx3-ubyte.gz not found, downloading https://dataset.bj.bcebos.com/mnist/t10k-images-idx3-ubyte.gz \n",
      "Begin to download\n"
     ]
    },
    {
     "name": "stdout",
     "output_type": "stream",
     "text": [
      "item 2/2 [===========================>..] - ETA: 0s - 4ms/item"
     ]
    },
    {
     "name": "stderr",
     "output_type": "stream",
     "text": [
      "\n",
      "Download finished\n",
      "Cache file /Users/wn/.cache/paddle/dataset/mnist/t10k-labels-idx1-ubyte.gz not found, downloading https://dataset.bj.bcebos.com/mnist/t10k-labels-idx1-ubyte.gz \n",
      "Begin to download\n",
      "\n",
      "Download finished\n"
     ]
    }
   ],
   "source": [
    "predict_data = paddle.vision.datasets.MNIST(mode='test')"
   ]
  },
  {
   "cell_type": "code",
   "execution_count": 27,
   "id": "31f691e6",
   "metadata": {},
   "outputs": [
    {
     "name": "stderr",
     "output_type": "stream",
     "text": [
      "/var/folders/wd/8wzyf1t512s625px80dm4ctm0000gn/T/ipykernel_4265/3569759674.py:1: VisibleDeprecationWarning: Creating an ndarray from ragged nested sequences (which is a list-or-tuple of lists-or-tuples-or ndarrays with different lengths or shapes) is deprecated. If you meant to do this, you must specify 'dtype=object' when creating the ndarray.\n",
      "  predict_data = np.array(predict_data)\n"
     ]
    },
    {
     "data": {
      "text/plain": [
       "(10000, 2)"
      ]
     },
     "execution_count": 27,
     "metadata": {},
     "output_type": "execute_result"
    }
   ],
   "source": [
    "predict_data = np.array(predict_data)\n",
    "predict_data.shape"
   ]
  },
  {
   "cell_type": "code",
   "execution_count": 34,
   "id": "3814801d",
   "metadata": {},
   "outputs": [
    {
     "name": "stdout",
     "output_type": "stream",
     "text": [
      "本次预测的结果是： [[7]] 实际是： [9]\n",
      "本次预测的结果是： [[5]] 实际是： [6]\n",
      "本次预测的结果是： [[3]] 实际是： [6]\n",
      "本次预测的结果是： [[5]] 实际是： [5]\n",
      "本次预测的结果是： [[4]] 实际是： [4]\n",
      "本次预测的结果是： [[0]] 实际是： [0]\n",
      "本次预测的结果是： [[6]] 实际是： [7]\n",
      "本次预测的结果是： [[4]] 实际是： [4]\n",
      "本次预测的结果是： [[1]] 实际是： [0]\n",
      "本次预测的结果是： [[2]] 实际是： [1]\n",
      "本次预测的结果是： [[5]] 实际是： [3]\n",
      "本次预测的结果是： [[2]] 实际是： [1]\n",
      "本次预测的结果是： [[4]] 实际是： [3]\n",
      "本次预测的结果是： [[3]] 实际是： [4]\n",
      "本次预测的结果是： [[5]] 实际是： [7]\n",
      "本次预测的结果是： [[1]] 实际是： [2]\n",
      "本次预测的结果是： [[6]] 实际是： [7]\n",
      "本次预测的结果是： [[1]] 实际是： [1]\n",
      "本次预测的结果是： [[2]] 实际是： [2]\n",
      "本次预测的结果是： [[3]] 实际是： [1]\n",
      "本次预测的结果是： [[1]] 实际是： [1]\n",
      "本次预测的结果是： [[6]] 实际是： [7]\n",
      "本次预测的结果是： [[6]] 实际是： [4]\n",
      "本次预测的结果是： [[2]] 实际是： [2]\n",
      "本次预测的结果是： [[4]] 实际是： [3]\n",
      "本次预测的结果是： [[4]] 实际是： [5]\n",
      "本次预测的结果是： [[4]] 实际是： [1]\n",
      "本次预测的结果是： [[4]] 实际是： [2]\n",
      "本次预测的结果是： [[8]] 实际是： [4]\n",
      "本次预测的结果是： [[4]] 实际是： [4]\n"
     ]
    }
   ],
   "source": [
    "for i in range(20,50):\n",
    "    im = predict_data[i][0]\n",
    "    im = np.array(im).reshape(1, -1).astype(np.float32)\n",
    "    # 图像归一化，保持和数据集的数据范围一致\n",
    "    im = im / 255\n",
    "\n",
    "    model = MNIST()\n",
    "    params_file_path = 'mnist.pdparams'\n",
    "    param_dict = paddle.load(params_file_path)\n",
    "    model.load_dict(param_dict)\n",
    "    model.eval()\n",
    "    tensor_img = im\n",
    "    result = model(paddle.to_tensor(tensor_img))\n",
    "    print('本次预测的结果是：', result.numpy().astype('int32'),'实际是：',predict_data[i][1])"
   ]
  },
  {
   "cell_type": "code",
   "execution_count": null,
   "id": "ad597862",
   "metadata": {},
   "outputs": [],
   "source": []
  }
 ],
 "metadata": {
  "kernelspec": {
   "display_name": "Python 3 (ipykernel)",
   "language": "python",
   "name": "python3"
  },
  "language_info": {
   "codemirror_mode": {
    "name": "ipython",
    "version": 3
   },
   "file_extension": ".py",
   "mimetype": "text/x-python",
   "name": "python",
   "nbconvert_exporter": "python",
   "pygments_lexer": "ipython3",
   "version": "3.9.12"
  }
 },
 "nbformat": 4,
 "nbformat_minor": 5
}
